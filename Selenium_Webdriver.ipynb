{
 "cells": [
  {
   "cell_type": "code",
   "execution_count": null,
   "id": "452eca61",
   "metadata": {},
   "outputs": [],
   "source": [
    "from selenium import webdriver\n",
    "from selenium.webdriver.support.ui import WebDriverWait\n",
    "\n",
    "\n",
    "\n",
    "# Github credentials\n",
    "#You dont want to change any code, just put your username and password below\n",
    "username = \"Your usename\"\n",
    "password = \"your password\"\n",
    "\n",
    "\n",
    "\n",
    "# initialize the Chrome driver\n",
    "#install latest version from googlechrome.org\n",
    "#put downloaded chrome and python script in same folder \n",
    "driver = webdriver.Chrome(\"chromedriver\")\n",
    "\n",
    "\n",
    "\n",
    "# put your targeted link here \n",
    "driver.get(\"https://github.com/login\")\n",
    "#Here I used id, but you can use any other method to target\n",
    "driver.find_element_by_id(\"username\").send_keys(username)\n",
    "#Here I used id, but you can use any other method to target\n",
    "driver.find_element_by_id(\"password\").send_keys(password)\n",
    "#This will click automatic login button\n",
    "driver.find_element_by_id(\"loginbutton\").click()\n",
    "\n",
    "\n"
   ]
  }
 ],
 "metadata": {
  "kernelspec": {
   "display_name": "Python 3",
   "language": "python",
   "name": "python3"
  },
  "language_info": {
   "codemirror_mode": {
    "name": "ipython",
    "version": 3
   },
   "file_extension": ".py",
   "mimetype": "text/x-python",
   "name": "python",
   "nbconvert_exporter": "python",
   "pygments_lexer": "ipython3",
   "version": "3.8.8"
  }
 },
 "nbformat": 4,
 "nbformat_minor": 5
}
