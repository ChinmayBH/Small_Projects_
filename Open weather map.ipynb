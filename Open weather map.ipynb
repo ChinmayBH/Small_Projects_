{
 "cells": [
  {
   "cell_type": "raw",
   "id": "88dc719b",
   "metadata": {},
   "source": [
    "After running following code, code will ask for city. After entering city name,it will give you current weather report.\n"
   ]
  },
  {
   "cell_type": "code",
   "execution_count": 1,
   "id": "aa7dfc90",
   "metadata": {},
   "outputs": [
    {
     "name": "stdout",
     "output_type": "stream",
     "text": [
      "Enter your city name : nashik\n",
      "Temperature is : 22.7  degree celcius\n",
      "Wind Speed is : 0.45  m/s\n",
      "Latitude is : 19.9833\n",
      "Longitude is :  73.8\n",
      "Description : clear sky\n"
     ]
    }
   ],
   "source": [
    "#importing required libraries \n",
    "import requests\n",
    "import json\n",
    "from pprint import pprint\n",
    "\n",
    "\n",
    "#My API key \n",
    "api_key = \"d8eb74c594840335710138be3e23af8a\"\n",
    "# complete url address:- current_url + \"appid=\" + api_key + \"&unit=\" + city_name\n",
    "        \n",
    "city_name = input('Enter your city name : ')\n",
    "\n",
    "wm_url = 'http://api.openweathermap.org/data/2.5/weather?q={}&appid=d8eb74c594840335710138be3e23af8a&units=metric'.format(city_name)\n",
    "\n",
    "res = requests.get(wm_url)\n",
    "\n",
    "wm_dataset = res.json()\n",
    "\n",
    "temp = wm_dataset['main']['temp']\n",
    "\n",
    "wind_speed = wm_dataset['wind']['speed']\n",
    "\n",
    "latitude = wm_dataset['coord']['lat']\n",
    "\n",
    "longitude = wm_dataset['coord']['lon']\n",
    "\n",
    "description = wm_dataset['weather'][0]['description']\n",
    "\n",
    "#printing Results\n",
    "print('Temperature is :',temp,' degree celcius')\n",
    "print('Wind Speed is :',wind_speed,' m/s')\n",
    "print('Latitude is :',latitude)\n",
    "print('Longitude is : ',longitude)\n",
    "print('Description :',description)"
   ]
  },
  {
   "cell_type": "code",
   "execution_count": null,
   "id": "edade598",
   "metadata": {},
   "outputs": [],
   "source": []
  }
 ],
 "metadata": {
  "kernelspec": {
   "display_name": "Python 3",
   "language": "python",
   "name": "python3"
  },
  "language_info": {
   "codemirror_mode": {
    "name": "ipython",
    "version": 3
   },
   "file_extension": ".py",
   "mimetype": "text/x-python",
   "name": "python",
   "nbconvert_exporter": "python",
   "pygments_lexer": "ipython3",
   "version": "3.8.8"
  }
 },
 "nbformat": 4,
 "nbformat_minor": 5
}
