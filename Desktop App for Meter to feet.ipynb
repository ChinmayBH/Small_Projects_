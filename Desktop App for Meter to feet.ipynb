{
 "cells": [
  {
   "cell_type": "markdown",
   "id": "16ccefda",
   "metadata": {},
   "source": [
    "# Desktop App for Meter to feet"
   ]
  },
  {
   "cell_type": "code",
   "execution_count": 1,
   "id": "888be331",
   "metadata": {},
   "outputs": [
    {
     "name": "stdout",
     "output_type": "stream",
     "text": [
      "Requirement already satisfied: wxpython in c:\\users\\chinmayb\\anaconda3\\lib\\site-packages (4.1.1)\n",
      "Requirement already satisfied: six in c:\\users\\chinmayb\\anaconda3\\lib\\site-packages (from wxpython) (1.15.0)\n",
      "Requirement already satisfied: numpy in c:\\users\\chinmayb\\anaconda3\\lib\\site-packages (from wxpython) (1.19.5)\n",
      "Requirement already satisfied: pillow in c:\\users\\chinmayb\\anaconda3\\lib\\site-packages (from wxpython) (8.2.0)\n",
      "Note: you may need to restart the kernel to use updated packages.\n"
     ]
    }
   ],
   "source": [
    "pip install wxpython"
   ]
  },
  {
   "cell_type": "code",
   "execution_count": 2,
   "id": "0f5edfc5",
   "metadata": {},
   "outputs": [],
   "source": [
    "def meter_to_feet(meter,coeff = 3.28):\n",
    "    return meter * coeff"
   ]
  },
  {
   "cell_type": "code",
   "execution_count": 3,
   "id": "135db341",
   "metadata": {},
   "outputs": [],
   "source": [
    "import wx as wx\n",
    "App = wx.App()\n",
    "frame = wx.Frame(parent = None,title = \"App to convert meters to feets\")\n",
    "panel = wx.Panel(frame)\n",
    "sizer = wx.GridBagSizer()"
   ]
  },
  {
   "cell_type": "code",
   "execution_count": 4,
   "id": "160df14d",
   "metadata": {},
   "outputs": [],
   "source": [
    "def press_button(event):\n",
    "    meters = float(input_box.GetValue())\n",
    "    result.SetLabel(str(meter_to_feet(meters)))"
   ]
  },
  {
   "cell_type": "code",
   "execution_count": 5,
   "id": "6b32acef",
   "metadata": {},
   "outputs": [],
   "source": [
    "input_labels = wx.StaticText(panel,label = \" Enter Meters: \")\n",
    "input_box = wx.TextCtrl(panel)\n",
    "result_labels = wx.StaticText(panel,label = \"Converted feets: \")\n",
    "result = wx.StaticText(panel,label = \" \")\n",
    "button = wx.Button(panel,label = \"Convert\")\n",
    "button.Bind(wx.EVT_BUTTON,press_button)"
   ]
  },
  {
   "cell_type": "code",
   "execution_count": 6,
   "id": "e9397b4e",
   "metadata": {},
   "outputs": [
    {
     "data": {
      "text/plain": [
       "<wx._core.GBSizerItem at 0x2b1e252daf0>"
      ]
     },
     "execution_count": 6,
     "metadata": {},
     "output_type": "execute_result"
    }
   ],
   "source": [
    "sizer.Add(input_labels,(0,0))\n",
    "sizer.Add(input_box,(0,1))\n",
    "sizer.Add(result_labels,(1,0))\n",
    "sizer.Add(result,(1,1))\n",
    "sizer.Add(button,(2,0))\n"
   ]
  },
  {
   "cell_type": "code",
   "execution_count": null,
   "id": "73dbe809",
   "metadata": {},
   "outputs": [],
   "source": [
    "panel.SetSizerAndFit(sizer)\n",
    "frame.SetSizerAndFit(sizer)\n",
    "frame.Show()\n",
    "App.MainLoop()"
   ]
  },
  {
   "cell_type": "code",
   "execution_count": null,
   "id": "c27d2285",
   "metadata": {},
   "outputs": [],
   "source": []
  },
  {
   "cell_type": "code",
   "execution_count": null,
   "id": "4a4c3f42",
   "metadata": {},
   "outputs": [],
   "source": []
  },
  {
   "cell_type": "code",
   "execution_count": null,
   "id": "5c15dfee",
   "metadata": {},
   "outputs": [],
   "source": []
  }
 ],
 "metadata": {
  "kernelspec": {
   "display_name": "Python 3",
   "language": "python",
   "name": "python3"
  },
  "language_info": {
   "codemirror_mode": {
    "name": "ipython",
    "version": 3
   },
   "file_extension": ".py",
   "mimetype": "text/x-python",
   "name": "python",
   "nbconvert_exporter": "python",
   "pygments_lexer": "ipython3",
   "version": "3.8.8"
  }
 },
 "nbformat": 4,
 "nbformat_minor": 5
}
