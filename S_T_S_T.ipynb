{
 "cells": [
  {
   "cell_type": "code",
   "execution_count": 1,
   "id": "7b560939",
   "metadata": {},
   "outputs": [
    {
     "name": "stdout",
     "output_type": "stream",
     "text": [
      "Lets play stone - paper - Scissors game\n",
      "ST = Scissor  P = Paper S = stone\n",
      "Enter your choice: s\n",
      "Machine's response: S\n",
      "The game is tie\n"
     ]
    }
   ],
   "source": [
    "import random\n",
    "import re\n",
    "\n",
    "print(\"Lets play stone - paper - Scissors game\")\n",
    "print(\"ST = Scissor \",\"P = Paper\",\"S = stone\")\n",
    "user_choice = input(\"Enter your choice: \")\n",
    "choices = [\"ST\",\"P\",\"S\"]\n",
    "w = random.choice(choices)\n",
    "print(\"Machine's response:\",w)\n",
    "if  re.match(\"[SsRrPp]\", user_choice):\n",
    "#     print(\"Please choose valid response\")\n",
    "    if user_choice.upper() == w:\n",
    "        print(\"The game is tie\")\n",
    "    elif user_choice.upper() == \"P\" and w == \"ST\":\n",
    "        print(\"Paper beats stone, I Win\")\n",
    "\n",
    "    elif user_choice.upper() == \"S\" and w == \"P\":\n",
    "        print(\"sescior beats paper, I win\")\n",
    "\n",
    "    elif user_choice.upper() == \"ST\" and w == \"S\":\n",
    "        print(\"stone beats sessor, I win\")\n",
    "\n",
    "    else:\n",
    "        print(\"You win\")\n",
    "else:\n",
    "    print(\"Please choose valid response\")\n",
    "\n"
   ]
  },
  {
   "cell_type": "code",
   "execution_count": null,
   "id": "5c57919b",
   "metadata": {},
   "outputs": [],
   "source": []
  }
 ],
 "metadata": {
  "kernelspec": {
   "display_name": "Python 3 (ipykernel)",
   "language": "python",
   "name": "python3"
  },
  "language_info": {
   "codemirror_mode": {
    "name": "ipython",
    "version": 3
   },
   "file_extension": ".py",
   "mimetype": "text/x-python",
   "name": "python",
   "nbconvert_exporter": "python",
   "pygments_lexer": "ipython3",
   "version": "3.9.7"
  }
 },
 "nbformat": 4,
 "nbformat_minor": 5
}
