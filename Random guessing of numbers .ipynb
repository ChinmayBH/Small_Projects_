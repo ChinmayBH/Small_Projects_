{
 "cells": [
  {
   "cell_type": "code",
   "execution_count": 84,
   "id": "59cb7b51",
   "metadata": {},
   "outputs": [],
   "source": [
    "import random\n",
    "counter_list = []\n",
    "\n",
    "\n",
    "def show_score():\n",
    "    if count <= 0:\n",
    "        print(\"There is no high score\")\n",
    "    else:\n",
    "        print(\"the highest score is {}\".format(min(count)))\n",
    "        \n",
    "def start_game():\n",
    "    random_num = random.randint(1,20)\n",
    "    print(\"welcome to the game of random guessing !!\")\n",
    "    name = input(\"enter your name\")\n",
    "    w = input(\"Hey {} , want to guess number ? Enter (Yes/No)\".format(name))\n",
    "    \n",
    "    count = 0\n",
    "    show_score()\n",
    "\n",
    "    while w.lower() == \"yes\":\n",
    "        try:\n",
    "            inp = int(input(\"Enter your number between 1 to 20:\"))\n",
    "            if inp > 20 or inp < 1:\n",
    "                raise ValueError(\"Guess number within range \")\n",
    "            if inp == random_num :\n",
    "                    print(\"Thats GREAT !! You guessed it right !!! \")\n",
    "                    count+=1\n",
    "                    break\n",
    "\n",
    "            elif inp > random_num :\n",
    "                print(\"You went higher\")\n",
    "                count+=1\n",
    "\n",
    "            elif inp < random_num:\n",
    "                print(\"you went lower\")\n",
    "                count+=1\n",
    "\n",
    "\n",
    "            counter_list.append(count)\n",
    "            print(\"Attempts:\",count)\n",
    "\n",
    "        except ValueError as err:\n",
    "            print(\"Oh no!, that is not a valid value. Try again...\")\n",
    "\n",
    "    else :\n",
    "        print(\"Ok no problem\")\n",
    "\n"
   ]
  },
  {
   "cell_type": "code",
   "execution_count": 86,
   "id": "5711eef2",
   "metadata": {},
   "outputs": [
    {
     "name": "stdout",
     "output_type": "stream",
     "text": [
      "welcome to the game of random guessing !!\n",
      "enter your nameChinmay\n",
      "Hey Chinmay , want to guess number ? Enter (Yes/No)yes\n",
      "There is no high score\n",
      "Enter your number between 1 to 20:3\n",
      "you went lower\n",
      "Attempts: 1\n",
      "Enter your number between 1 to 20:15\n",
      "You went higher\n",
      "Attempts: 2\n",
      "Enter your number between 1 to 20:12\n",
      "You went higher\n",
      "Attempts: 3\n",
      "Enter your number between 1 to 20:10\n",
      "you went lower\n",
      "Attempts: 4\n",
      "Enter your number between 1 to 20:11\n",
      "Thats GREAT !! You guessed it right !!! \n"
     ]
    }
   ],
   "source": [
    "start_game()"
   ]
  },
  {
   "cell_type": "code",
   "execution_count": null,
   "id": "234f1ab6",
   "metadata": {},
   "outputs": [],
   "source": []
  }
 ],
 "metadata": {
  "kernelspec": {
   "display_name": "Python 3 (ipykernel)",
   "language": "python",
   "name": "python3"
  },
  "language_info": {
   "codemirror_mode": {
    "name": "ipython",
    "version": 3
   },
   "file_extension": ".py",
   "mimetype": "text/x-python",
   "name": "python",
   "nbconvert_exporter": "python",
   "pygments_lexer": "ipython3",
   "version": "3.9.7"
  }
 },
 "nbformat": 4,
 "nbformat_minor": 5
}
