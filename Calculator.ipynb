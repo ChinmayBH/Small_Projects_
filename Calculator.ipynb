{
 "cells": [
  {
   "cell_type": "code",
   "execution_count": 4,
   "id": "f8f65bc7",
   "metadata": {},
   "outputs": [
    {
     "name": "stdout",
     "output_type": "stream",
     "text": [
      "Welcome to calculator ! you can do your calculations here!!\n",
      "Please enter First Number: 23\n",
      "Please enter Second Number: 32\n",
      "\n",
      "1:Addition \n",
      " 2:Substraction\n",
      " 3:Multiplication\n",
      " 4:Division\n",
      "\n",
      "Enter operation number here: 3\n",
      "23 * 32 = 736\n",
      "Want to do more calculations? no\n",
      "Thank You !!\n"
     ]
    }
   ],
   "source": [
    "print(\"Welcome to calculator ! you can do your calculations here!!\")\n",
    "def addition(x,y):\n",
    "    return (x + y)\n",
    "def substraction(x,y):\n",
    "    return (x-y)\n",
    "def multiplication(x,y):\n",
    "    return (x * y)\n",
    "def division(x,y):\n",
    "    return(x / y)\n",
    "while True:\n",
    "    num1 = int(input(\"Please enter First Number: \"))\n",
    "    num2 = int(input(\"Please enter Second Number: \"))\n",
    "    print()\n",
    "    print(\"1:Addition \\n\",\"2:Substraction\\n\",\"3:Multiplication\\n\",\"4:Division\\n\")\n",
    "\n",
    "    user_input = int(input(\"Enter operation number here: \"))\n",
    "    if user_input in ('1','2','3','4'):\n",
    "        print(\"enter two numbers\")\n",
    "\n",
    "\n",
    "    if user_input == 1:\n",
    "        print(num1,\"+\",num2,\"=\",addition(num1,num2))\n",
    "    if user_input == 2:\n",
    "        print(num1,\"-\",num2,\"=\",substraction(num1,num2))\n",
    "    if user_input == 3:\n",
    "        print(num1,\"*\",num2,\"=\",multiplication(num1,num2))\n",
    "    if user_input == 4:\n",
    "        print(num1,\"/\",num2,\"=\",division(num1,num2))\n",
    "    more = (input(\"Want to do more calculations? \"))\n",
    "    if more == 'no':\n",
    "        print(\"Thank You !!\")\n",
    "        break\n",
    "        \n",
    "    else:\n",
    "        print(\"Number enter operation between 1,2,3,4\")\n"
   ]
  },
  {
   "cell_type": "code",
   "execution_count": null,
   "id": "c5127376",
   "metadata": {},
   "outputs": [],
   "source": []
  }
 ],
 "metadata": {
  "kernelspec": {
   "display_name": "Python 3",
   "language": "python",
   "name": "python3"
  },
  "language_info": {
   "codemirror_mode": {
    "name": "ipython",
    "version": 3
   },
   "file_extension": ".py",
   "mimetype": "text/x-python",
   "name": "python",
   "nbconvert_exporter": "python",
   "pygments_lexer": "ipython3",
   "version": "3.8.8"
  }
 },
 "nbformat": 4,
 "nbformat_minor": 5
}
